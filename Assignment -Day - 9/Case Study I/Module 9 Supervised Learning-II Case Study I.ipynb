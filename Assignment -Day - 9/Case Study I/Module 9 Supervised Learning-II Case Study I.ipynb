{
 "cells": [
  {
   "cell_type": "markdown",
   "metadata": {},
   "source": [
    "<font size=\"5\"><b>Case Study I</b><br><br>\n",
    "Module 9: Supervised Learning-II\n",
    " </font>"
   ]
  },
  {
   "cell_type": "markdown",
   "metadata": {},
   "source": [
    "<font color='red'>\n",
    "Domain – Media<br><br>\n",
    "focus – optimize selection process<br>\n",
    "Business challenge/requirement<br>\n",
    "Motion Studios is the largest Radio production house in Europe. Their total revenue\n",
    "$ 1B+. Company has launched a new reality show – \"The Star RJ\". The show is about\n",
    "finding a new Radio Jockey who will be the star presenter on upcoming shows.<br>\n",
    "In first round participants have to upload their voice clip online and the clip will be\n",
    "evaluated by experts for selection into the next round. There is a separate team in the\n",
    "first round for evaluation of male and female voice.<br>\n",
    "Response to the show is unprecedented and company is flooded with voice clips.<br>\n",
    "You as a ML expert have to classify the voice as either male/female so that first level\n",
    "of filtration is quicker.<br><br>\n",
    "Key issues<br>\n",
    "Voice sample are across accents<br><br>\n",
    "Considerations<br>\n",
    "The output from the pre-processed WAV files were saved into the CSV file<br><br>\n",
    "Data volume<br>\n",
    "-Approx 3000 records – file voice-classification.csv<br><br>\n",
    "Fields in Data<br>\n",
    "• meanfreq: mean frequency (in kHz)<br>\n",
    "• sd: standard deviation of frequency<br>\n",
    "• median: median frequency (in kHz)<br>\n",
    "• Q25: first quantile (in kHz)<br>\n",
    "• Q75: third quantile (in kHz)<br>\n",
    "• IQR: interquantile range (in kHz)<br>\n",
    "• skew: skewness (see note in specprop description)<br>\n",
    "• kurt: kurtosis (see note in specprop description)<br>\n",
    "• sp.ent: spectral entropy<br>\n",
    "• sfm: spectral flatness<br>\n",
    "• mode: mode frequency<br>\n",
    "• centroid: frequency centroid (see specprop)<br>\n",
    "• peakf: peak frequency (frequency with highest energy)<br>\n",
    "• meanfun: average of fundamental frequency measured across acoustic signal<br>\n",
    "• minfun: minimum fundamental frequency measured across acoustic signal<br>\n",
    "• maxfun: maximum fundamental frequency measured across acoustic signal<br>\n",
    "• meandom: average of dominant frequency measured across acoustic signal<br>\n",
    "• mindom: minimum of dominant frequency measured across acoustic signal<br>\n",
    "• maxdom: maximum of dominant frequency measured across acoustic signal<br>\n",
    "• dfrange: range of dominant frequency measured across acoustic signal<br>\n",
    "• modindx: modulation index. Calculated as the accumulated absolute difference\n",
    "between adjacent measurements of fundamental frequencies divided by the\n",
    "frequency range<br>\n",
    "• label: male or female<br><br>\n",
    "Additional information<br>\n",
    "-NA<br><br>\n",
    "Business benefits<br>\n",
    "Since \"The Star RJ\" is a reality show, time to select candidates is very short. The\n",
    "whole success of the show and hence the profits depends upon quick and smooth\n",
    "execution <br>"
   ]
  },
  {
   "cell_type": "code",
   "execution_count": 107,
   "metadata": {},
   "outputs": [],
   "source": [
    "import pandas as pd\n",
    "import numpy as np\n",
    "import matplotlib.pyplot as plt\n",
    "import seaborn as sn\n",
    "from sklearn import metrics\n",
    "from sklearn.model_selection import train_test_split\n",
    "from sklearn.linear_model import LogisticRegression\n",
    "#from sklearn.preprocessing import LabelEncoder\n",
    "#from sklearn.tree import DecisionTreeClassifier\n",
    "#from sklearn.ensemble import RandomForestClassifier\n",
    "from sklearn import svm\n",
    "%matplotlib inline\n",
    "from sklearn import datasets, svm, metrics\n",
    "import warnings\n",
    "warnings.filterwarnings('ignore')"
   ]
  },
  {
   "cell_type": "code",
   "execution_count": 108,
   "metadata": {},
   "outputs": [
    {
     "data": {
      "text/plain": [
       "Index(['meanfreq', 'sd', 'median', 'Q25', 'Q75', 'IQR', 'skew', 'kurt',\n",
       "       'sp.ent', 'sfm', 'mode', 'centroid', 'meanfun', 'minfun', 'maxfun',\n",
       "       'meandom', 'mindom', 'maxdom', 'dfrange', 'modindx', 'label'],\n",
       "      dtype='object')"
      ]
     },
     "execution_count": 108,
     "metadata": {},
     "output_type": "execute_result"
    }
   ],
   "source": [
    "data = pd.read_csv('voice-classification.csv')\n",
    "data.columns"
   ]
  },
  {
   "cell_type": "code",
   "execution_count": 109,
   "metadata": {},
   "outputs": [
    {
     "data": {
      "text/html": [
       "<div>\n",
       "<style scoped>\n",
       "    .dataframe tbody tr th:only-of-type {\n",
       "        vertical-align: middle;\n",
       "    }\n",
       "\n",
       "    .dataframe tbody tr th {\n",
       "        vertical-align: top;\n",
       "    }\n",
       "\n",
       "    .dataframe thead th {\n",
       "        text-align: right;\n",
       "    }\n",
       "</style>\n",
       "<table border=\"1\" class=\"dataframe\">\n",
       "  <thead>\n",
       "    <tr style=\"text-align: right;\">\n",
       "      <th></th>\n",
       "      <th>meanfreq</th>\n",
       "      <th>sd</th>\n",
       "      <th>median</th>\n",
       "      <th>Q25</th>\n",
       "      <th>Q75</th>\n",
       "      <th>IQR</th>\n",
       "      <th>skew</th>\n",
       "      <th>kurt</th>\n",
       "      <th>sp.ent</th>\n",
       "      <th>sfm</th>\n",
       "      <th>...</th>\n",
       "      <th>centroid</th>\n",
       "      <th>meanfun</th>\n",
       "      <th>minfun</th>\n",
       "      <th>maxfun</th>\n",
       "      <th>meandom</th>\n",
       "      <th>mindom</th>\n",
       "      <th>maxdom</th>\n",
       "      <th>dfrange</th>\n",
       "      <th>modindx</th>\n",
       "      <th>label</th>\n",
       "    </tr>\n",
       "  </thead>\n",
       "  <tbody>\n",
       "    <tr>\n",
       "      <th>0</th>\n",
       "      <td>0.059781</td>\n",
       "      <td>0.064241</td>\n",
       "      <td>0.032027</td>\n",
       "      <td>0.015071</td>\n",
       "      <td>0.090193</td>\n",
       "      <td>0.075122</td>\n",
       "      <td>12.863462</td>\n",
       "      <td>274.402906</td>\n",
       "      <td>0.893369</td>\n",
       "      <td>0.491918</td>\n",
       "      <td>...</td>\n",
       "      <td>0.059781</td>\n",
       "      <td>0.084279</td>\n",
       "      <td>0.015702</td>\n",
       "      <td>0.275862</td>\n",
       "      <td>0.007812</td>\n",
       "      <td>0.007812</td>\n",
       "      <td>0.007812</td>\n",
       "      <td>0.000000</td>\n",
       "      <td>0.000000</td>\n",
       "      <td>male</td>\n",
       "    </tr>\n",
       "    <tr>\n",
       "      <th>1</th>\n",
       "      <td>0.066009</td>\n",
       "      <td>0.067310</td>\n",
       "      <td>0.040229</td>\n",
       "      <td>0.019414</td>\n",
       "      <td>0.092666</td>\n",
       "      <td>0.073252</td>\n",
       "      <td>22.423285</td>\n",
       "      <td>634.613855</td>\n",
       "      <td>0.892193</td>\n",
       "      <td>0.513724</td>\n",
       "      <td>...</td>\n",
       "      <td>0.066009</td>\n",
       "      <td>0.107937</td>\n",
       "      <td>0.015826</td>\n",
       "      <td>0.250000</td>\n",
       "      <td>0.009014</td>\n",
       "      <td>0.007812</td>\n",
       "      <td>0.054688</td>\n",
       "      <td>0.046875</td>\n",
       "      <td>0.052632</td>\n",
       "      <td>male</td>\n",
       "    </tr>\n",
       "  </tbody>\n",
       "</table>\n",
       "<p>2 rows × 21 columns</p>\n",
       "</div>"
      ],
      "text/plain": [
       "   meanfreq        sd    median       Q25       Q75       IQR       skew  \\\n",
       "0  0.059781  0.064241  0.032027  0.015071  0.090193  0.075122  12.863462   \n",
       "1  0.066009  0.067310  0.040229  0.019414  0.092666  0.073252  22.423285   \n",
       "\n",
       "         kurt    sp.ent       sfm  ...    centroid   meanfun    minfun  \\\n",
       "0  274.402906  0.893369  0.491918  ...    0.059781  0.084279  0.015702   \n",
       "1  634.613855  0.892193  0.513724  ...    0.066009  0.107937  0.015826   \n",
       "\n",
       "     maxfun   meandom    mindom    maxdom   dfrange   modindx  label  \n",
       "0  0.275862  0.007812  0.007812  0.007812  0.000000  0.000000   male  \n",
       "1  0.250000  0.009014  0.007812  0.054688  0.046875  0.052632   male  \n",
       "\n",
       "[2 rows x 21 columns]"
      ]
     },
     "execution_count": 109,
     "metadata": {},
     "output_type": "execute_result"
    }
   ],
   "source": [
    "data.head(2)"
   ]
  },
  {
   "cell_type": "code",
   "execution_count": 113,
   "metadata": {},
   "outputs": [
    {
     "name": "stdout",
     "output_type": "stream",
     "text": [
      "[1 1 1 ... 0 0 0]\n"
     ]
    }
   ],
   "source": [
    "from sklearn.preprocessing import LabelEncoder\n",
    "y=data.iloc[:,-1]\n",
    "X=data.iloc[:,:-1]\n",
    "\n",
    "gender_encoder = LabelEncoder()\n",
    "y = gender_encoder.fit_transform(y)\n",
    "print(y)\n",
    " \n",
    "from sklearn.preprocessing import StandardScaler\n",
    "scaler = StandardScaler()\n",
    "scaler.fit(X)\n",
    "X = scaler.transform(X)"
   ]
  },
  {
   "cell_type": "code",
   "execution_count": 111,
   "metadata": {},
   "outputs": [],
   "source": [
    "train_x,test_x,train_y,test_y=train_test_split(X,y,test_size=.30,random_state=0)\n",
    "#sn.countplot(y)"
   ]
  },
  {
   "cell_type": "code",
   "execution_count": 112,
   "metadata": {},
   "outputs": [
    {
     "data": {
      "text/plain": [
       "0.9789695057833859"
      ]
     },
     "execution_count": 112,
     "metadata": {},
     "output_type": "execute_result"
    }
   ],
   "source": [
    "svm = svm.SVC(kernel='linear')\n",
    "svm.fit(train_x,train_y)\n",
    "predict = svm.predict(test_x)\n",
    "metrics.accuracy_score(predict,test_y)\n",
    "#print('Accuracy of this SVM Linear Model :' metrics.accuracy_score(predict,test_y))\n"
   ]
  }
 ],
 "metadata": {
  "kernelspec": {
   "display_name": "Python 3",
   "language": "python",
   "name": "python3"
  },
  "language_info": {
   "codemirror_mode": {
    "name": "ipython",
    "version": 3
   },
   "file_extension": ".py",
   "mimetype": "text/x-python",
   "name": "python",
   "nbconvert_exporter": "python",
   "pygments_lexer": "ipython3",
   "version": "3.7.1"
  }
 },
 "nbformat": 4,
 "nbformat_minor": 2
}
