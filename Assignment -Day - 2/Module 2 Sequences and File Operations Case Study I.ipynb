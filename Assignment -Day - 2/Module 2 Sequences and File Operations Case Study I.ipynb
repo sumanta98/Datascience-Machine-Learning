{
 "cells": [
  {
   "cell_type": "markdown",
   "metadata": {},
   "source": [
    "<font size=\"5\"><b>Case Study I</b><br><br>\n",
    "Module 2: Sequences and File Operations </font>"
   ]
  },
  {
   "cell_type": "markdown",
   "metadata": {},
   "source": [
    "<font color='red'>1. Write a program which will find factors of given number and find whether the\n",
    "factor is even or odd.</font>"
   ]
  },
  {
   "cell_type": "code",
   "execution_count": 4,
   "metadata": {},
   "outputs": [
    {
     "name": "stdout",
     "output_type": "stream",
     "text": [
      "The factor of 20 is given below\n",
      "1 - > Odd\n",
      "2 - > Even\n",
      "4 - > Even\n",
      "5 - > Odd\n",
      "10 - > Even\n",
      "20 - > Even\n"
     ]
    }
   ],
   "source": [
    "def find_factors(num):\n",
    "    print('The factor of %d is given below'%num)\n",
    "    for i in range(1,num+1):\n",
    "        if num % i == 0:\n",
    "            if i % 2 == 0:\n",
    "                print('%d - > Even' %i)\n",
    "            else:\n",
    "                print('%d - > Odd' %i)\n",
    "find_factors(20)"
   ]
  },
  {
   "cell_type": "markdown",
   "metadata": {},
   "source": [
    "<font color='red'>2. Write a code which accepts a sequence of words as input and prints the words in a\n",
    "sequence after sorting them alphabetically.</font>"
   ]
  },
  {
   "cell_type": "code",
   "execution_count": 28,
   "metadata": {},
   "outputs": [
    {
     "name": "stdout",
     "output_type": "stream",
     "text": [
      "Enter sequence of words which will print the words in a sequence after sorting them alphabetically : \n",
      "\n",
      "Input :\n",
      "Write a code which accepts a sequence of words as input and prints the words in a sequence after sorting them alphabetically\n",
      "\n",
      "Output :\n",
      "a a a accepts after alphabetically and as code in input of prints sequence sequence sorting the them which words words write "
     ]
    }
   ],
   "source": [
    "def sorting_sequence_of_word(seq):\n",
    "    print('\\nOutput :')\n",
    "    split_word=seq.lower().split()\n",
    "    split_word.sort()\n",
    "    for i in split_word:\n",
    "        print(i,end=' ')\n",
    "        \n",
    "sorting_sequence_of_word(input('Enter sequence of words which will print the words in a sequence after sorting them alphabetically : \\n\\nInput :\\n'))"
   ]
  },
  {
   "cell_type": "markdown",
   "metadata": {},
   "source": [
    "<font color='red'>\n",
    "3. Write a program, which will find all the numbers between 1000 and 3000 (both\n",
    "included) such that each digit of a number is an even number. The numbers\n",
    "obtained should be printed in a comma separated sequence on a single line.\n",
    "<br><br>\n",
    "Hint: In case of input data being supplied to the question, it should be assumed to\n",
    "be a console input. Divide each digit with 2 and verify is it even or not.</font>"
   ]
  },
  {
   "cell_type": "code",
   "execution_count": 5,
   "metadata": {},
   "outputs": [
    {
     "name": "stdout",
     "output_type": "stream",
     "text": [
      "Enter minimum value : \n",
      "\n",
      "Minimum Value :10\n",
      "Enter maximum value : \n",
      "\n",
      "maximum Value :30\n",
      "\n",
      "Output :\n",
      "10,12,14,16,18,20,22,24,26,28,30,"
     ]
    }
   ],
   "source": [
    "def comma_separated_sequence(min1 , max1):\n",
    "    print('\\nOutput :')\n",
    "    for i in range(min1,max1+1):\n",
    "        if i % 2 == 0:\n",
    "            print(i,end=',')\n",
    "    \n",
    "min1 =  int(input('Enter minimum value : \\n\\nMinimum Value :') )\n",
    "max1 =  int(input('Enter maximum value : \\n\\nmaximum Value :'))\n",
    "comma_separated_sequence(min1,max1)"
   ]
  },
  {
   "cell_type": "markdown",
   "metadata": {},
   "source": [
    "<font color='red'>\n",
    "4. Write a program that accepts a sentence and calculate the number of letters and\n",
    "digits.\n",
    "<br><br>\n",
    "Suppose if the entered string is: Python0325<br>\n",
    "Then the output will be:<br>\n",
    "LETTERS: 6<br>\n",
    "DIGITS:4<br>\n",
    "</font>"
   ]
  },
  {
   "cell_type": "code",
   "execution_count": 6,
   "metadata": {},
   "outputs": [
    {
     "name": "stdout",
     "output_type": "stream",
     "text": [
      "Enter a sentence : \n",
      "\n",
      "Input :\n",
      "Python0325\n",
      "\n",
      "Output :\n",
      "LETTERS:6\n",
      "DIGITS:4\n"
     ]
    }
   ],
   "source": [
    "def find_letter_digits(sen):\n",
    "    print('\\nOutput :')\n",
    "    digits =0\n",
    "    letters =0\n",
    "    for i in range(len(sen)):\n",
    "        if (sen[i].isdigit()):\n",
    "            digits = digits+1\n",
    "        else:\n",
    "            letters = letters+1\n",
    "    print('LETTERS:%d'%letters)\n",
    "    print('DIGITS:%d'%digits)\n",
    "find_letter_digits(input('Enter a sentence : \\n\\nInput :\\n'))"
   ]
  },
  {
   "cell_type": "markdown",
   "metadata": {},
   "source": [
    "<font color='red'>\n",
    "5. Design a code which will find the given number is Palindrome number or not.\n",
    "<br><br>"
   ]
  },
  {
   "cell_type": "code",
   "execution_count": 15,
   "metadata": {},
   "outputs": [
    {
     "name": "stdout",
     "output_type": "stream",
     "text": [
      "Enter a number : \n",
      "\n",
      "Input :\n",
      "121\n",
      "\n",
      "Output :\n",
      "Palindrome number\n"
     ]
    }
   ],
   "source": [
    "def palindrome_check(number):\n",
    "    print('\\nOutput :')\n",
    "    if number == number[::-1]:\n",
    "        print('Palindrome number')\n",
    "    else:\n",
    "        print('Not a Palindrome number')\n",
    "\n",
    "palindrome_check(input('Enter a number : \\n\\nInput :\\n'))"
   ]
  },
  {
   "cell_type": "code",
   "execution_count": null,
   "metadata": {},
   "outputs": [],
   "source": []
  }
 ],
 "metadata": {
  "kernelspec": {
   "display_name": "Python 3",
   "language": "python",
   "name": "python3"
  },
  "language_info": {
   "codemirror_mode": {
    "name": "ipython",
    "version": 3
   },
   "file_extension": ".py",
   "mimetype": "text/x-python",
   "name": "python",
   "nbconvert_exporter": "python",
   "pygments_lexer": "ipython3",
   "version": "3.7.1"
  }
 },
 "nbformat": 4,
 "nbformat_minor": 2
}
