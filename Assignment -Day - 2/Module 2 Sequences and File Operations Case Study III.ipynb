{
 "cells": [
  {
   "cell_type": "markdown",
   "metadata": {},
   "source": [
    "<font size=\"5\"><b>Case Study III</b><br><br>\n",
    "Module 2: Sequences and File Operations </font>"
   ]
  },
  {
   "cell_type": "markdown",
   "metadata": {},
   "source": [
    "<font color='red'>Business challenge/requirement\n",
    "LifeTel Telecom is the latest entrant in the highly competitive Telecom market of\n",
    "Singapore. It issues SIM to the verified users. Till now verification was manual\n",
    "through the photocopy of approved id card document. However, government has\n",
    "recently introduced Social ID called Reference ID which is mapped to fingerprint of\n",
    "user. LifeTel should now verify user against the fingerprint and Reference ID\n",
    "    <br><br>\n",
    " Key issues\n",
    "Build a system where when user enters Reference ID it is encrypted, so that hackers\n",
    "cannot view the mapping of Reference ID and finger print\n",
    "<br>\n",
    " Business benefits\n",
    "Company will be able to quickly issue SIM to user and expected gain in volume is\n",
    "approximately 10 times as the manual process of verification is replaced with secure\n",
    "automated system\n",
    "<br>\n",
    "\n",
    "Approach to Solve<br>\n",
    "You have to use fundamentals of Python taught in module 1<br>\n",
    "1. Read the input from command line – Reference ID<br>\n",
    "2. Check for validity – it should be 12 digits and allows on number and alphabet<br>\n",
    "3. Encrypt the Reference ID and print it for reference\n",
    "</font>"
   ]
  },
  {
   "cell_type": "code",
   "execution_count": 20,
   "metadata": {},
   "outputs": [
    {
     "name": "stdout",
     "output_type": "stream",
     "text": [
      "Please Enter Reference ID :\n",
      "Sumanta@1234\n",
      "\n",
      "Your Reference ID is now Encrypted : \n",
      "\n",
      " b'gAAAAABeCupwhMP8dtbG9KyS7o3-iWAAAnJMKHS4StvTHIgi9YK2aKR4hoeyPJ-g5WPR9fExd7F0nQdNzFN4j1o2IIkmj5yhxQ=='\n",
      "\n",
      "Do you want to See your Reference ID again ? Type \"Yes\" Or \"No\" : Yes\n",
      "\n",
      "Your Reference ID is Sumanta@1234\n"
     ]
    }
   ],
   "source": [
    "from cryptography.fernet import Fernet\n",
    "import re\n",
    "\n",
    "def reference_id_varificationsystem(ref_id):\n",
    "    \n",
    "    flag=0\n",
    "    \n",
    "    while True:\n",
    "        if len(ref_id)!=12:\n",
    "            flag=-1\n",
    "            break\n",
    "        elif not re.search(\"[a-zA-Z]\",ref_id):\n",
    "            flag=-1\n",
    "            break\n",
    "        elif not re.search(\"[0-9]\",ref_id):\n",
    "            flag=-1\n",
    "            break\n",
    "            \n",
    "        # Additional Check\n",
    "        elif not re.search(\"[$#@]\",ref_id):\n",
    "            flag=-1\n",
    "            break\n",
    "            \n",
    "        else:\n",
    "            flag=0\n",
    "            message=ref_id.encode()\n",
    "            \n",
    "            # Generating Fingure print as a Key\n",
    "            fingure_print = Fernet.generate_key()\n",
    "            f = Fernet(fingure_print)\n",
    "            \n",
    "            print('\\nYour Reference ID is now Encrypted : \\n\\n %s\\n'%f.encrypt(message))\n",
    "            \n",
    "            __user_validation_input=input('Do you want to See your Reference ID again ? Type \"Yes\" Or \"No\" : ')\n",
    "            \n",
    "            \n",
    "            if __user_validation_input=='Yes':\n",
    "                print('\\nYour Reference ID is %s'%str(f.decrypt(f.encrypt(message)))[2:14])\n",
    "            elif __user_validation_input=='No':\n",
    "                print('\\nThanks')\n",
    "            else:\n",
    "                print('Enter Corrct input')\n",
    "            \n",
    "            break\n",
    "            \n",
    "            \n",
    "    if flag!=0:\n",
    "        print('Please enter valid format ,it should be 12 digits and allows on number and alphabet')\n",
    "        \n",
    "reference_id_varificationsystem(input('Please Enter Reference ID :\\n'))\n"
   ]
  },
  {
   "cell_type": "code",
   "execution_count": null,
   "metadata": {},
   "outputs": [],
   "source": []
  },
  {
   "cell_type": "code",
   "execution_count": null,
   "metadata": {},
   "outputs": [],
   "source": []
  }
 ],
 "metadata": {
  "kernelspec": {
   "display_name": "Python 3",
   "language": "python",
   "name": "python3"
  },
  "language_info": {
   "codemirror_mode": {
    "name": "ipython",
    "version": 3
   },
   "file_extension": ".py",
   "mimetype": "text/x-python",
   "name": "python",
   "nbconvert_exporter": "python",
   "pygments_lexer": "ipython3",
   "version": "3.7.1"
  }
 },
 "nbformat": 4,
 "nbformat_minor": 2
}
