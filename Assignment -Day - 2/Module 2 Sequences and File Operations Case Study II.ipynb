{
 "cells": [
  {
   "cell_type": "markdown",
   "metadata": {},
   "source": [
    "<font size=\"5\"><b>Case Study II</b><br><br>\n",
    "Module 2: Sequences and File Operations </font>"
   ]
  },
  {
   "cell_type": "markdown",
   "metadata": {},
   "source": [
    "<font color='red'>1. What is the output of the following code?<br><br>\n",
    " nums = set([1,1,2,3,3,3,4,4])<br>\n",
    " print(len(nums))\n",
    "\n",
    "</font>"
   ]
  },
  {
   "cell_type": "markdown",
   "metadata": {},
   "source": [
    "Ans : 4"
   ]
  },
  {
   "cell_type": "markdown",
   "metadata": {},
   "source": [
    "<font color='red'>2. What will be the output?<br><br>\n",
    "d = {\"john\":40, \"peter\":45}<br>\n",
    "print(list(d.keys()))\n",
    "</font>"
   ]
  },
  {
   "cell_type": "markdown",
   "metadata": {},
   "source": [
    "Ans : ['john', 'peter']"
   ]
  },
  {
   "cell_type": "markdown",
   "metadata": {},
   "source": [
    "<font color='red'>3. A website requires a user to input username and password to register. Write a program\n",
    "to check the validity of password given by user. Following are the criteria for checking\n",
    "password:<br><br>\n",
    "\n",
    "1. At least 1 letter between [a-z]<br>\n",
    "2. At least 1 number between [0-9]<br>\n",
    "1. At least 1 letter between [A-Z]<br>\n",
    "3. At least 1 character from [$#@]<br>\n",
    "4. Minimum length of transaction password: 6<br>\n",
    "5. Maximum length of transaction password: 12\n",
    "\n",
    "</font>"
   ]
  },
  {
   "cell_type": "code",
   "execution_count": 7,
   "metadata": {},
   "outputs": [
    {
     "name": "stdout",
     "output_type": "stream",
     "text": [
      "Valid Password\n"
     ]
    }
   ],
   "source": [
    "import re\n",
    "def password_pattern(password):\n",
    "    flag =0\n",
    "    while True:\n",
    "        if not re.search(\"[a-z]\",password):\n",
    "            flag=-1\n",
    "            break\n",
    "        elif not re.search(\"[0-9]\",password):\n",
    "            flag=-1\n",
    "            break\n",
    "        elif not re.search(\"[A-Z]\",password):\n",
    "            flag=-1\n",
    "            break\n",
    "        elif not re.search(\"[$#@]\",password):\n",
    "            flag=-1\n",
    "            break\n",
    "        elif (len(password)<6):\n",
    "            flag=-1\n",
    "            break\n",
    "        elif (len(password)>12):\n",
    "            flag=-1\n",
    "            break\n",
    "        else:\n",
    "            flag=0\n",
    "            print('Valid Password')\n",
    "            break\n",
    "    \n",
    "    if flag==-1:\n",
    "        print('Invalid Password')\n",
    "        \n",
    "password_pattern('ajhjhfsA0@')   "
   ]
  },
  {
   "cell_type": "markdown",
   "metadata": {},
   "source": [
    "<font color='red'>4. Write a for loop that prints all elements of a list and their position in the list.<br><br>\n",
    "a = [4,7,3,2,5,9] <br>\n",
    "</font>"
   ]
  },
  {
   "cell_type": "code",
   "execution_count": 22,
   "metadata": {},
   "outputs": [
    {
     "name": "stdout",
     "output_type": "stream",
     "text": [
      "Please find the Value and Position below :\n",
      "\n",
      "Value : 4  Position: 0\n",
      "Value : 7  Position: 1\n",
      "Value : 3  Position: 2\n",
      "Value : 2  Position: 3\n",
      "Value : 5  Position: 4\n",
      "Value : 9  Position: 5\n"
     ]
    }
   ],
   "source": [
    "a = [4,7,3,2,5,9]\n",
    "print('Please find the Value and Position below :\\n')\n",
    "for i in a:\n",
    "    print ('Value : %d  Position: %d'%(i,a.index(i)))"
   ]
  },
  {
   "cell_type": "markdown",
   "metadata": {},
   "source": [
    "<font color='red'>5. Please write a program which accepts a string from console and print the\n",
    "characters that have even indexes.\n",
    "<br><br>\n",
    "Example: If the following string is given as input to the program: <br>\n",
    "H1e2l3l4o5w6o7r8l9d <br>\n",
    "Then, the output of the program should be:<br>\n",
    "Helloworld<br>\n",
    "</font>"
   ]
  },
  {
   "cell_type": "code",
   "execution_count": 35,
   "metadata": {},
   "outputs": [
    {
     "name": "stdout",
     "output_type": "stream",
     "text": [
      "Enter a string which will print the characters that have even indexes below : \n",
      "\n",
      "Input :\n",
      "\n",
      "H1e2l3l4o5w6o7r8l9d\n",
      "\n",
      "Output :\n",
      "\n",
      "Helloworld"
     ]
    }
   ],
   "source": [
    "import re\n",
    "def char_even_index(ch):\n",
    "    print('\\nOutput :\\n')\n",
    "    ch1=list(ch)\n",
    "    for i in ch1:\n",
    "        if ch1.index(i) % 2 == 0 and not re.search(\"[0-9]\",i):\n",
    "            print(i,end='')\n",
    "            \n",
    "char_even_index(input('Enter a string which will print the characters that have even indexes below : \\n\\nInput :\\n\\n'))\n",
    "    "
   ]
  },
  {
   "cell_type": "markdown",
   "metadata": {},
   "source": [
    "<font color='red'>6. Please write a program which accepts a string from console and print it in reverse\n",
    "order.\n",
    "<br><br>\n",
    "Example: If the following string is given as input to the program: <br>\n",
    "rise to vote sir <br>\n",
    "Then, the output of the program should be:<br>\n",
    "ris etov ot esir\n",
    "<br>\n",
    "</font>"
   ]
  },
  {
   "cell_type": "code",
   "execution_count": 46,
   "metadata": {},
   "outputs": [
    {
     "name": "stdout",
     "output_type": "stream",
     "text": [
      "Enter a string which will print it in reverse order below : \n",
      "\n",
      "Input :\n",
      "\n",
      "rise to vote sir\n",
      "\n",
      "Output :\n",
      "\n",
      "ris etov ot esir "
     ]
    }
   ],
   "source": [
    "def reverse_order(st):\n",
    "    print('\\nOutput :\\n')\n",
    "    st1 =st.split()\n",
    "    st1 =st1[::-1]\n",
    "    for i in st1:\n",
    "        i = ''.join(reversed(i))\n",
    "        print(i,end=' ')\n",
    "        \n",
    "    \n",
    "reverse_order(input('Enter a string which will print it in reverse order below : \\n\\nInput :\\n\\n'))\n",
    "    "
   ]
  },
  {
   "cell_type": "markdown",
   "metadata": {},
   "source": [
    "<font color='red'>7. Please write a program which count and print the numbers of each character in a\n",
    "string input by console.\n",
    "<br><br>\n",
    "Example: If the following string is given as input to the program:<br>\n",
    "abcdefgabc <br>\n",
    "Then, the output of the program should be:<br>\n",
    "a,2<br>\n",
    "c,2<br>\n",
    "b,2<br>\n",
    "e,1<br>\n",
    "d,1<br>\n",
    "g,1<br>\n",
    "f,1\n",
    "</font>\n"
   ]
  },
  {
   "cell_type": "code",
   "execution_count": 17,
   "metadata": {},
   "outputs": [
    {
     "name": "stdout",
     "output_type": "stream",
     "text": [
      "Enter a string which will print the numbers of each character in a string input by console below : \n",
      "\n",
      "Input :\n",
      "\n",
      "abcdefgabc\n",
      "\n",
      "Output :\n",
      "\n",
      "a,2\n",
      "b,2\n",
      "c,2\n",
      "d,1\n",
      "e,1\n",
      "f,1\n",
      "g,1\n"
     ]
    }
   ],
   "source": [
    "def character_count(ch):\n",
    "    print('\\nOutput :\\n')\n",
    "    lis = list(ch)\n",
    "    d={i:lis.count(i) for i in lis}\n",
    "    for j in d:\n",
    "        print('%c,%d'%(j,d[j]))\n",
    "character_count(input('Enter a string which will print the numbers of each character in a string input by console below : \\n\\nInput :\\n\\n'))"
   ]
  },
  {
   "cell_type": "markdown",
   "metadata": {},
   "source": [
    "<font color='red'>8. With two given lists [1,3,6,78,35,55] and [12,24,35,24,88,120,155], write a\n",
    "program to make a list whose elements are intersection of the above given lists<br>\n",
    "</font>"
   ]
  },
  {
   "cell_type": "code",
   "execution_count": 26,
   "metadata": {},
   "outputs": [
    {
     "name": "stdout",
     "output_type": "stream",
     "text": [
      "[35]\n"
     ]
    }
   ],
   "source": [
    "list1 = [1,3,6,78,35,55]\n",
    "list2 = [12,24,35,24,88,120,155]\n",
    "new_list = list(set(list1).intersection(set(list2)))\n",
    "print(new_list)"
   ]
  },
  {
   "cell_type": "markdown",
   "metadata": {},
   "source": [
    "<font color='red'>9. By using list comprehension, please write a program to print the list after removing\n",
    "the value 24 in [12,24,35,24,88,120,155].\n",
    "<br>\n",
    "</font>"
   ]
  },
  {
   "cell_type": "code",
   "execution_count": 31,
   "metadata": {},
   "outputs": [
    {
     "name": "stdout",
     "output_type": "stream",
     "text": [
      "[12, 35, 88, 120, 155]\n"
     ]
    }
   ],
   "source": [
    "list1 = [12,24,35,24,88,120,155]\n",
    "\n",
    "print([i for i in list1 if i!=24])\n"
   ]
  },
  {
   "cell_type": "markdown",
   "metadata": {},
   "source": [
    "<font color='red'>10.By using list comprehension, please write a program to print the list after removing\n",
    "the 0th,4th,5th numbers in [12,24,35,70,88,120,155].\n",
    "<br>\n",
    "</font>"
   ]
  },
  {
   "cell_type": "code",
   "execution_count": 35,
   "metadata": {},
   "outputs": [
    {
     "name": "stdout",
     "output_type": "stream",
     "text": [
      "[24, 35, 70, 155]\n"
     ]
    }
   ],
   "source": [
    "list1 =  [12,24,35,70,88,120,155]\n",
    "\n",
    "print ([i for i in list1 if list1.index(i) not in (0,4,5)])"
   ]
  },
  {
   "cell_type": "markdown",
   "metadata": {},
   "source": [
    "<font color='red'>11.By using list comprehension, please write a program to print the list after removing\n",
    "delete numbers which are divisible by 5 and 7 in [12,24,35,70,88,120,155].\n",
    "<br>\n",
    "</font>"
   ]
  },
  {
   "cell_type": "code",
   "execution_count": 43,
   "metadata": {},
   "outputs": [
    {
     "name": "stdout",
     "output_type": "stream",
     "text": [
      "[12, 24, 88, 120, 155]\n"
     ]
    }
   ],
   "source": [
    "list1 = [12,24,35,70,88,120,155]\n",
    "\n",
    "print( [i for i in list1 if i%5!=0 or i%7!=0 ] )"
   ]
  },
  {
   "cell_type": "markdown",
   "metadata": {},
   "source": [
    "<font color='red'>12.Write a program to compute 1/2+2/3+3/4+...+n/n+1 with a given n input by\n",
    "console (n>0).\n",
    "<br>\n",
    "Example:<br>\n",
    "If the following n is given as input to the program:<br>\n",
    "5<br>\n",
    "Then, the output of the program should be:<br>\n",
    "3.55\n",
    "</font>"
   ]
  },
  {
   "cell_type": "code",
   "execution_count": 58,
   "metadata": {},
   "outputs": [
    {
     "name": "stdout",
     "output_type": "stream",
     "text": [
      "Enter a number which will print the below output: \n",
      "\n",
      "Input :\n",
      "\n",
      "5\n",
      "\n",
      "Output :\n",
      "\n",
      "3.55\n"
     ]
    }
   ],
   "source": [
    "def compute(n):\n",
    "    print('\\nOutput :\\n')\n",
    "    j=0\n",
    "    for i in range(1,n+1):\n",
    "        j=j+i/(i+1)\n",
    "    print('%.2f'%j)\n",
    "    \n",
    "compute(int(input('Enter a number which will print the below output: \\n\\nInput :\\n\\n')))"
   ]
  },
  {
   "cell_type": "code",
   "execution_count": null,
   "metadata": {},
   "outputs": [],
   "source": []
  }
 ],
 "metadata": {
  "kernelspec": {
   "display_name": "Python 3",
   "language": "python",
   "name": "python3"
  },
  "language_info": {
   "codemirror_mode": {
    "name": "ipython",
    "version": 3
   },
   "file_extension": ".py",
   "mimetype": "text/x-python",
   "name": "python",
   "nbconvert_exporter": "python",
   "pygments_lexer": "ipython3",
   "version": "3.7.1"
  }
 },
 "nbformat": 4,
 "nbformat_minor": 2
}
