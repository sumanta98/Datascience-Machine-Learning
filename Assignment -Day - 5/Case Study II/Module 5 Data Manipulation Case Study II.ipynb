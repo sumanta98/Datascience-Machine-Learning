{
 "cells": [
  {
   "cell_type": "markdown",
   "metadata": {},
   "source": [
    "<font size=\"5\"><b>Case Study II</b><br><br>\n",
    "Module 5  Data Manipulation\n",
    " </font>"
   ]
  },
  {
   "cell_type": "markdown",
   "metadata": {},
   "source": [
    "<font color='red'>\n",
    "\n",
    "Domain –HR <br>\n",
    "focus – Insights from data <br>\n",
    "Business challenge/requirement <br>\n",
    "SFO Public Department - referred to as SFO has captured all the salary data of its\n",
    "employees from year 2011-2014. Now we are in year 2015 and the organization is\n",
    "facing some financial crisis. As first step HR wants to rationalize employee cost to\n",
    "save payroll budget. You have to do data manipulation and analysis on the salary data\n",
    "to answer specific questions for cost savings.<br><br>\n",
    "Key issues<br>\n",
    "Cost can be saved by figuring out the key pockets of high salaries<br><br>\n",
    "Considerations<br>\n",
    "NONE<br><br>\n",
    "Data volume<br>\n",
    "-Approx 150K records across files<br><br>\n",
    "additional information<br>\n",
    "-NA<br><br>\n",
    "Business benefits<br>\n",
    "Save at least 10% of employee cost by identifying and letting them go<br><br>\n",
    "Approach to Solve<br>\n",
    "You have to use fundamentals of Pandas covered in module 6 and answer following 5<br>\n",
    "Questions<br><br>\n",
    "\n",
    "1. Compute how much total salary cost has increased from year 2011 to 2014\n",
    "2. Which Job Title in Year 2014 has highest mean salary?\n",
    "3. How much money could have been saved in Year 2014 by stopping\n",
    "OverTimePay?\n",
    "4. Which are the top 5 common job in Year 2014 and how much do they cost SFO\n",
    "?\n",
    "5. Who was the top earning employee across all the years?\n",
    "\n",
    "</font>"
   ]
  },
  {
   "cell_type": "code",
   "execution_count": 28,
   "metadata": {},
   "outputs": [
    {
     "data": {
      "text/html": [
       "<div>\n",
       "<style scoped>\n",
       "    .dataframe tbody tr th:only-of-type {\n",
       "        vertical-align: middle;\n",
       "    }\n",
       "\n",
       "    .dataframe tbody tr th {\n",
       "        vertical-align: top;\n",
       "    }\n",
       "\n",
       "    .dataframe thead th {\n",
       "        text-align: right;\n",
       "    }\n",
       "</style>\n",
       "<table border=\"1\" class=\"dataframe\">\n",
       "  <thead>\n",
       "    <tr style=\"text-align: right;\">\n",
       "      <th></th>\n",
       "      <th>TotalPay</th>\n",
       "    </tr>\n",
       "    <tr>\n",
       "      <th>Year</th>\n",
       "      <th></th>\n",
       "    </tr>\n",
       "  </thead>\n",
       "  <tbody>\n",
       "    <tr>\n",
       "      <th>2011</th>\n",
       "      <td>71743.819645</td>\n",
       "    </tr>\n",
       "    <tr>\n",
       "      <th>2012</th>\n",
       "      <td>74112.234931</td>\n",
       "    </tr>\n",
       "    <tr>\n",
       "      <th>2013</th>\n",
       "      <td>77611.443142</td>\n",
       "    </tr>\n",
       "    <tr>\n",
       "      <th>2014</th>\n",
       "      <td>75471.836912</td>\n",
       "    </tr>\n",
       "  </tbody>\n",
       "</table>\n",
       "</div>"
      ],
      "text/plain": [
       "          TotalPay\n",
       "Year              \n",
       "2011  71743.819645\n",
       "2012  74112.234931\n",
       "2013  77611.443142\n",
       "2014  75471.836912"
      ]
     },
     "execution_count": 28,
     "metadata": {},
     "output_type": "execute_result"
    }
   ],
   "source": [
    "import pandas as pd\n",
    "import numpy as np\n",
    "import matplotlib.pyplot as plt\n",
    "\n",
    "df= pd.DataFrame(pd.read_csv('Salaries.csv'))\n",
    "#df['TotalPay']\n",
    "#plt.plot(df['Year'],df['TotalPay'])\n",
    "#plt.show()\n",
    "df.loc[:,['Year','TotalPay']].groupby('Year').mean()\n",
    "\n"
   ]
  },
  {
   "cell_type": "code",
   "execution_count": 37,
   "metadata": {},
   "outputs": [
    {
     "data": {
      "text/plain": [
       "JobTitle    Youth Comm Advisor\n",
       "TotalPay                471953\n",
       "Year                      2014\n",
       "dtype: object"
      ]
     },
     "execution_count": 37,
     "metadata": {},
     "output_type": "execute_result"
    }
   ],
   "source": [
    "df.loc[:,['JobTitle','TotalPay','Year']][df['Year']==2014].max()"
   ]
  },
  {
   "cell_type": "code",
   "execution_count": 43,
   "metadata": {},
   "outputs": [
    {
     "data": {
      "text/plain": [
       "OvertimePay    2.059186e+08\n",
       "dtype: float64"
      ]
     },
     "execution_count": 43,
     "metadata": {},
     "output_type": "execute_result"
    }
   ],
   "source": [
    "df.loc[:,['OvertimePay']][df.Year==2014].sum()"
   ]
  },
  {
   "cell_type": "code",
   "execution_count": 60,
   "metadata": {},
   "outputs": [
    {
     "data": {
      "text/html": [
       "<div>\n",
       "<style scoped>\n",
       "    .dataframe tbody tr th:only-of-type {\n",
       "        vertical-align: middle;\n",
       "    }\n",
       "\n",
       "    .dataframe tbody tr th {\n",
       "        vertical-align: top;\n",
       "    }\n",
       "\n",
       "    .dataframe thead th {\n",
       "        text-align: right;\n",
       "    }\n",
       "</style>\n",
       "<table border=\"1\" class=\"dataframe\">\n",
       "  <thead>\n",
       "    <tr style=\"text-align: right;\">\n",
       "      <th></th>\n",
       "      <th>Year</th>\n",
       "      <th>TotalPay</th>\n",
       "    </tr>\n",
       "    <tr>\n",
       "      <th>JobTitle</th>\n",
       "      <th></th>\n",
       "      <th></th>\n",
       "    </tr>\n",
       "  </thead>\n",
       "  <tbody>\n",
       "    <tr>\n",
       "      <th>Deputy Chief 3</th>\n",
       "      <td>2014</td>\n",
       "      <td>471952.64</td>\n",
       "    </tr>\n",
       "    <tr>\n",
       "      <th>Asst Med Examiner</th>\n",
       "      <td>2014</td>\n",
       "      <td>390111.98</td>\n",
       "    </tr>\n",
       "    <tr>\n",
       "      <th>Chief Investment Officer</th>\n",
       "      <td>2014</td>\n",
       "      <td>339653.70</td>\n",
       "    </tr>\n",
       "    <tr>\n",
       "      <th>Battalion Chief, Fire Suppress</th>\n",
       "      <td>2014</td>\n",
       "      <td>335484.96</td>\n",
       "    </tr>\n",
       "    <tr>\n",
       "      <th>Asst Chf of Dept (Fire Dept)</th>\n",
       "      <td>2014</td>\n",
       "      <td>329390.54</td>\n",
       "    </tr>\n",
       "  </tbody>\n",
       "</table>\n",
       "</div>"
      ],
      "text/plain": [
       "                                Year   TotalPay\n",
       "JobTitle                                       \n",
       "Deputy Chief 3                  2014  471952.64\n",
       "Asst Med Examiner               2014  390111.98\n",
       "Chief Investment Officer        2014  339653.70\n",
       "Battalion Chief, Fire Suppress  2014  335484.96\n",
       "Asst Chf of Dept (Fire Dept)    2014  329390.54"
      ]
     },
     "execution_count": 60,
     "metadata": {},
     "output_type": "execute_result"
    }
   ],
   "source": [
    "df.loc[:,['JobTitle','Year','TotalPay']][df.Year==2014].groupby('JobTitle').max().sort_values(by='TotalPay',ascending=False).head()"
   ]
  },
  {
   "cell_type": "code",
   "execution_count": 47,
   "metadata": {},
   "outputs": [
    {
     "data": {
      "text/plain": [
       "EmployeeName    Zuri Jones\n",
       "TotalPay            567595\n",
       "dtype: object"
      ]
     },
     "execution_count": 47,
     "metadata": {},
     "output_type": "execute_result"
    }
   ],
   "source": [
    "df.loc[:,['EmployeeName','TotalPay']].max()"
   ]
  },
  {
   "cell_type": "code",
   "execution_count": null,
   "metadata": {},
   "outputs": [],
   "source": []
  }
 ],
 "metadata": {
  "kernelspec": {
   "display_name": "Python 3",
   "language": "python",
   "name": "python3"
  },
  "language_info": {
   "codemirror_mode": {
    "name": "ipython",
    "version": 3
   },
   "file_extension": ".py",
   "mimetype": "text/x-python",
   "name": "python",
   "nbconvert_exporter": "python",
   "pygments_lexer": "ipython3",
   "version": "3.7.1"
  }
 },
 "nbformat": 4,
 "nbformat_minor": 2
}
