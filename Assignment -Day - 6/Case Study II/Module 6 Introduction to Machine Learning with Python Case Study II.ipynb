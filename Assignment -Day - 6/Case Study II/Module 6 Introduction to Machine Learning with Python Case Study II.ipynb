{
 "cells": [
  {
   "cell_type": "markdown",
   "metadata": {},
   "source": [
    "<font size=\"5\"><b>Case Study II</b><br><br>\n",
    "Module 6: Introduction to Machine\n",
    "Learning with Python\n",
    " </font>"
   ]
  },
  {
   "cell_type": "markdown",
   "metadata": {},
   "source": [
    "<font color='red'>\n",
    "\n",
    "Questions:<br><br>\n",
    "1.Load the data from “cereal.csv” and plot histograms of sugar and vitamin content\n",
    "across different cereals.<br>\n",
    "[Hint: Extract values of a specific column using their labels and use hist method of\n",
    "pyplot]<br><br>\n",
    "2.The names of the manufactures are coded using alphabets, create a new column\n",
    "with their full name using the below mapping.<br>\n",
    "'N': 'Nabisco',\n",
    "'Q': 'Quaker Oats',\n",
    "'K': 'Kelloggs',\n",
    "'R': 'Raslston Purina',\n",
    "'G': 'General Mills' ,\n",
    "'P' :'Post' ,\n",
    "'A':'American Home Foods Products'<br>\n",
    "Create a bar plot where each manufacturer is on the y axis and the height of the bars<br>\n",
    "depict the number of cereals manufactured by them.<br>\n",
    "[Hint: Try using countplot this time or bar method of pyplot]<br><br>\n",
    "\n",
    "3.Extract the rating as your target variable ‘y’ and all numerical parameters as your\n",
    "predictors ‘x’. Separate 25% of your data as test set.<br><br>\n",
    "4.Fit a linear regression module and measure the mean squared error on test\n",
    "dataset.\n",
    "[ Hint: Explore linear models and metrics section of sklearn documentation]"
   ]
  },
  {
   "cell_type": "code",
   "execution_count": 121,
   "metadata": {},
   "outputs": [],
   "source": [
    "import numpy as np\n",
    "import pandas as pd\n",
    "import matplotlib.pyplot as plt\n",
    "from sklearn.model_selection import train_test_split\n",
    "from sklearn.linear_model import LinearRegression\n",
    "import seaborn as sn\n",
    "from sklearn import metrics\n",
    "\n"
   ]
  },
  {
   "cell_type": "code",
   "execution_count": 122,
   "metadata": {},
   "outputs": [],
   "source": [
    "\n",
    "data = pd.read_csv('cereal.csv',header=0)"
   ]
  },
  {
   "cell_type": "code",
   "execution_count": 123,
   "metadata": {},
   "outputs": [
    {
     "data": {
      "image/png": "[encoded data removed]",
      "text/plain": [
       "<Figure size 432x288 with 1 Axes>"
      ]
     },
     "metadata": {
      "needs_background": "light"
     },
     "output_type": "display_data"
    }
   ],
   "source": [
    "dt = data['name']\n",
    "ds = data['sugars']\n",
    "dv = data['vitamins']\n",
    "plt.hist([ds,dv],color=[ 'green','blue'])\n",
    "plt.title('Sugar Vs Vitamin')\n",
    "plt.xlabel('Sugar & Vitamin')\n",
    "plt.legend(['sugars','vitamins'])\n",
    "plt.show()"
   ]
  },
  {
   "cell_type": "code",
   "execution_count": 124,
   "metadata": {},
   "outputs": [],
   "source": [
    "Manufacture_name = data['mfr'].map({'N': 'Nabisco','Q': 'Quaker Oats','K': 'Kelloggs','R': 'Raslston Purina','G': 'General Mills','P' :'Post','A':'American Home Foods Products'})"
   ]
  },
  {
   "cell_type": "code",
   "execution_count": 125,
   "metadata": {},
   "outputs": [],
   "source": [
    "data['Manufacture_name']=Manufacture_name"
   ]
  },
  {
   "cell_type": "code",
   "execution_count": 126,
   "metadata": {},
   "outputs": [],
   "source": [
    "#data.iloc[:,[Manufacture_name]]\n",
    "\n",
    "manufa= data.groupby('Manufacture_name').size().reset_index(name='counts')\n",
    "y=manufa['Manufacture_name']\n",
    "x=manufa['counts']"
   ]
  },
  {
   "cell_type": "code",
   "execution_count": 127,
   "metadata": {},
   "outputs": [
    {
     "data": {
      "image/png": "[encoded data removed]",
      "text/plain": [
       "<Figure size 432x288 with 1 Axes>"
      ]
     },
     "metadata": {
      "needs_background": "light"
     },
     "output_type": "display_data"
    }
   ],
   "source": [
    "plt.bar(x,y)\n",
    "plt.show()"
   ]
  },
  {
   "cell_type": "code",
   "execution_count": 128,
   "metadata": {},
   "outputs": [],
   "source": [
    "data.drop('Manufacture_name',axis=1,inplace=True)\n",
    "data.drop('name',axis=1,inplace=True)\n",
    "data.drop('mfr',axis=1,inplace=True)\n",
    "data.drop('type',axis=1,inplace=True)"
   ]
  },
  {
   "cell_type": "code",
   "execution_count": 129,
   "metadata": {},
   "outputs": [],
   "source": [
    "x = data.iloc[:,0:12]\n",
    "y = data['rating']\n"
   ]
  },
  {
   "cell_type": "code",
   "execution_count": 130,
   "metadata": {},
   "outputs": [],
   "source": [
    "x_train,x_test,y_train,y_test  = train_test_split(x,y,test_size=.25,random_state=2)"
   ]
  },
  {
   "cell_type": "code",
   "execution_count": 131,
   "metadata": {},
   "outputs": [],
   "source": [
    "ln = LinearRegression()\n",
    "ln.fit(x_train,y_train)\n",
    "y_pred= ln.predict(x_test)\n"
   ]
  },
  {
   "cell_type": "code",
   "execution_count": 132,
   "metadata": {},
   "outputs": [
    {
     "name": "stdout",
     "output_type": "stream",
     "text": [
      "0.0005277636379506355\n"
     ]
    }
   ],
   "source": [
    "print(np.sqrt(metrics.mean_absolute_error(y_test,y_pred)))"
   ]
  },
  {
   "cell_type": "code",
   "execution_count": null,
   "metadata": {},
   "outputs": [],
   "source": []
  }
 ],
 "metadata": {
  "kernelspec": {
   "display_name": "Python 3",
   "language": "python",
   "name": "python3"
  },
  "language_info": {
   "codemirror_mode": {
    "name": "ipython",
    "version": 3
   },
   "file_extension": ".py",
   "mimetype": "text/x-python",
   "name": "python",
   "nbconvert_exporter": "python",
   "pygments_lexer": "ipython3",
   "version": "3.7.1"
  }
 },
 "nbformat": 4,
 "nbformat_minor": 2
}
