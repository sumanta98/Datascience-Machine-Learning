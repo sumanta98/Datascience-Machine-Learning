{
 "cells": [
  {
   "cell_type": "markdown",
   "metadata": {},
   "source": [
    "<font size=\"5\"><b>Case Study I</b><br><br>\n",
    "Module 3: Deep Dive - Functions,OOPs, Modules, Errors and Exceptions\n",
    " </font>"
   ]
  },
  {
   "cell_type": "markdown",
   "metadata": {},
   "source": [
    "<font color='red'>1. A Robot moves in a Plane starting from the origin point (0,0). The robot can move\n",
    "toward UP, DOWN, LEFT, RIGHT. The trace of Robot movement is as given\n",
    "following:<br><br>\n",
    "UP 5<br>\n",
    "DOWN 3<br>\n",
    "LEFT 3<br>\n",
    "RIGHT 2<br>\n",
    "The numbers after directions are steps. Write a program to compute the<br>\n",
    "distance current position after sequence of movements.\n",
    "</font>\n"
   ]
  },
  {
   "cell_type": "code",
   "execution_count": 130,
   "metadata": {},
   "outputs": [
    {
     "name": "stdout",
     "output_type": "stream",
     "text": [
      "Type in UP/DOWN/LEFT/RIGHT #step number: UP 5\n",
      "Type in UP/DOWN/LEFT/RIGHT #step number: DOWN 3\n",
      "Type in UP/DOWN/LEFT/RIGHT #step number: LEFT 3\n",
      "Type in UP/DOWN/LEFT/RIGHT #step number: RIGHT 2\n",
      "Type in UP/DOWN/LEFT/RIGHT #step number: \n",
      "Distance: 2.23606797749979\n"
     ]
    }
   ],
   "source": [
    "import math\n",
    "\n",
    "x, y = 0, 0\n",
    "\n",
    "while True:\n",
    "    step = input(\"Type in UP/DOWN/LEFT/RIGHT #step number: \")\n",
    "\n",
    "    if step == \"\":\n",
    "        break\n",
    "\n",
    "    else:\n",
    "        step = step.split(\" \")\n",
    "\n",
    "        if step[0] == \"UP\":\n",
    "            y = y + int(step[1])\n",
    "        elif step[0] == \"DOWN\":\n",
    "            y = y - int(step[1])\n",
    "        elif step[0] == \"LEFT\":\n",
    "            x = x - int(step[1])\n",
    "        elif step[0] == \"RIGHT\":\n",
    "            x = x + int(step[1])\n",
    "\n",
    "dis = math.sqrt(x**2 + y**2)\n",
    "\n",
    "print(\"Distance:\", dis)"
   ]
  },
  {
   "cell_type": "markdown",
   "metadata": {},
   "source": [
    "<font color='red'>2. Data of XYZ company is stored in sorted list. Write a program for searching\n",
    "specific data from that list.<br><br>\n",
    "\n",
    "\n",
    "Hint: Use if/elif to deal with conditions.\n",
    "</font>"
   ]
  },
  {
   "cell_type": "code",
   "execution_count": 14,
   "metadata": {},
   "outputs": [
    {
     "name": "stdout",
     "output_type": "stream",
     "text": [
      "Enter search data : 3\n",
      "\n",
      "Output : \n",
      "\n",
      "Search Data found : 3\n"
     ]
    }
   ],
   "source": [
    "'''\n",
    "  Sorted list always contain similar data type. Below code is not possible \n",
    "  \n",
    "  [11] list1 = [1,2,3,4,6,5,'h']\n",
    "       list1.sort()\n",
    "  \n",
    "  ---------------------------------------------------------------------------\n",
    "TypeError                                 Traceback (most recent call last)\n",
    "<ipython-input-13-b1ca360f4bd5> in <module>\n",
    "      1 list1 = [1,2,3,4,6,5,'h']\n",
    "----> 2 list1.sort()\n",
    "\n",
    "TypeError: '<' not supported between instances of 'str' and 'int'\n",
    "\n",
    "Correct sorted list below.\n",
    " list1 = [1,2,3,4,6,5]\n",
    " list2 = ['a','c','g','g']\n",
    "  \n",
    "'''\n",
    "\n",
    "\n",
    "\n",
    "def search_data(search):\n",
    "    print('\\nOutput : \\n')\n",
    "    \n",
    "    # Sorted list always contain similar data type\n",
    "    list1 = [1,2,3,4,6,5]\n",
    "    #list2 = ['a','c','g','g']\n",
    "    \n",
    "    if search in str(list1):\n",
    "        print('Search Data found : %s'%search)\n",
    "    else:\n",
    "        print('Search Data not found')\n",
    "\n",
    "search_data(input('Enter search data : '))\n",
    "   "
   ]
  },
  {
   "cell_type": "markdown",
   "metadata": {},
   "source": [
    "<font color='red'>3. Weather forecasting organization wants to show is it day or night. So, write a\n",
    "program for such organization to find whether is it dark outside or not.<br><br>\n",
    "Hint: Use time module.\n",
    "</font>"
   ]
  },
  {
   "cell_type": "code",
   "execution_count": 21,
   "metadata": {},
   "outputs": [
    {
     "name": "stdout",
     "output_type": "stream",
     "text": [
      "it's light outside\n"
     ]
    }
   ],
   "source": [
    "import time\n",
    "mytime = time.localtime()\n",
    "if mytime.tm_hour < 6 or mytime.tm_hour > 18:\n",
    "    print (\"it's dark outside\")\n",
    "else:\n",
    "    print (\"it's light outside\")"
   ]
  },
  {
   "cell_type": "markdown",
   "metadata": {},
   "source": [
    "<font color='red'>4. Write a program to find distance between two locations when their latitude and\n",
    "longitudes are given.<br><br>\n",
    "Hint: Use math module.\n",
    "</font>"
   ]
  },
  {
   "cell_type": "code",
   "execution_count": 14,
   "metadata": {},
   "outputs": [
    {
     "name": "stdout",
     "output_type": "stream",
     "text": [
      "Please find distance between two locations : 4510\n"
     ]
    }
   ],
   "source": [
    "from math import sin, cos, sqrt, atan2, radians\n",
    "\n",
    "def findDistancebtwtwoplace(lat1,lon1,lat2,lon2):\n",
    "    \n",
    "    rediusofearth= 6371 #Radius of Earth in KM\n",
    "    \n",
    "    lat1 = radians(lat1)\n",
    "    lon1 = radians(lon1)\n",
    "    lat2 = radians(lat2)\n",
    "    lon2 = radians(lon2)\n",
    "    \n",
    "    diff_lat=lat2-lat1  # latitude difference between two place\n",
    "    diff_lon=lon2-lon1 # Longitude difference between two place\n",
    "    \n",
    "    a = sin(diff_lat / 2)**2 + cos(lat1) * cos(lat2) * sin(diff_lon / 2)**2\n",
    "    c = 2 * atan2(sqrt(a), sqrt(1 - a))\n",
    "\n",
    "    distance = rediusofearth * c\n",
    "    \n",
    "    print('Please find distance between two locations : %d'%distance)\n",
    "    \n",
    "findDistancebtwtwoplace(12.873204,45.754134,50.409974,26.919345)"
   ]
  },
  {
   "cell_type": "markdown",
   "metadata": {},
   "source": [
    "<font color='red'>5. Design a software for bank system. There should be options like cash withdraw,\n",
    "cash credit and change password. According to user input, the software should\n",
    "provide required output.<br><br>\n",
    "Hint: Use if else statements and functions.\n",
    "</font>"
   ]
  },
  {
   "cell_type": "code",
   "execution_count": 17,
   "metadata": {},
   "outputs": [
    {
     "name": "stdout",
     "output_type": "stream",
     "text": [
      "\n",
      "Welcome to Edureka Bank :\n",
      "\n",
      "\n",
      "\n",
      "Please find the transaction type below :\n",
      "\n",
      "\n",
      "Enter 1: Cash Withdraw\n",
      "\n",
      "Enter 2: Cash Credit\n",
      "\n",
      "Enter 3: Change Password\n",
      "\n",
      "Enter 4: Exit menu\n",
      "\n",
      "Enter your choice from above menu \n",
      "1\n",
      "Enter your transaction password \n",
      "········\n",
      "Enter the amount \n",
      "1200\n",
      "Please wait ...\n",
      "\n",
      "Please collect your money \n",
      "\n",
      "your available balance is 18800 \n",
      "\n",
      "\n",
      "\n",
      "Please find the transaction type below :\n",
      "\n",
      "\n",
      "Enter 1: Cash Withdraw\n",
      "\n",
      "Enter 2: Cash Credit\n",
      "\n",
      "Enter 3: Change Password\n",
      "\n",
      "Enter 4: Exit menu\n",
      "\n",
      "Enter your choice from above menu \n",
      "2\n",
      "Enter your transaction password \n",
      "········\n",
      "Enter the amount \n",
      "1300\n",
      "Please wait ...\n",
      "\n",
      "Your available balance is 20100\n",
      "\n",
      "\n",
      "\n",
      "Please find the transaction type below :\n",
      "\n",
      "\n",
      "Enter 1: Cash Withdraw\n",
      "\n",
      "Enter 2: Cash Credit\n",
      "\n",
      "Enter 3: Change Password\n",
      "\n",
      "Enter 4: Exit menu\n",
      "\n",
      "Enter your choice from above menu \n",
      "3\n",
      "Enter current password \n",
      "········\n",
      "Enter New password \n",
      "········\n",
      "Re-Enter New password \n",
      "········\n",
      "Please wait ...\n",
      "\n",
      "Password changed successfully.\n",
      "\n",
      "\n",
      "\n",
      "Please find the transaction type below :\n",
      "\n",
      "\n",
      "Enter 1: Cash Withdraw\n",
      "\n",
      "Enter 2: Cash Credit\n",
      "\n",
      "Enter 3: Change Password\n",
      "\n",
      "Enter 4: Exit menu\n",
      "\n",
      "Enter your choice from above menu \n",
      "2\n",
      "Enter your transaction password \n",
      "········\n",
      "Incorrect password\n",
      "\n",
      "\n",
      "\n",
      "Please find the transaction type below :\n",
      "\n",
      "\n",
      "Enter 1: Cash Withdraw\n",
      "\n",
      "Enter 2: Cash Credit\n",
      "\n",
      "Enter 3: Change Password\n",
      "\n",
      "Enter 4: Exit menu\n",
      "\n",
      "Enter your choice from above menu \n",
      "2\n",
      "Enter your transaction password \n",
      "········\n",
      "Enter the amount \n",
      "1500\n",
      "Please wait ...\n",
      "\n",
      "Your available balance is 21600\n",
      "\n",
      "\n",
      "\n",
      "Please find the transaction type below :\n",
      "\n",
      "\n",
      "Enter 1: Cash Withdraw\n",
      "\n",
      "Enter 2: Cash Credit\n",
      "\n",
      "Enter 3: Change Password\n",
      "\n",
      "Enter 4: Exit menu\n",
      "\n",
      "Enter your choice from above menu \n",
      "hi\n",
      "You have entered wrong input \n",
      "\n",
      "\n",
      "\n",
      "Please find the transaction type below :\n",
      "\n",
      "\n",
      "Enter 1: Cash Withdraw\n",
      "\n",
      "Enter 2: Cash Credit\n",
      "\n",
      "Enter 3: Change Password\n",
      "\n",
      "Enter 4: Exit menu\n",
      "\n",
      "Enter your choice from above menu \n",
      "4\n",
      "Thank you for banking with us , Have a great Day \n"
     ]
    }
   ],
   "source": [
    "import time\n",
    "import getpass\n",
    "\n",
    "def bankingOperation():\n",
    "    print('\\nWelcome to Edureka Bank :\\n')\n",
    "    flag=0\n",
    "    password='12345'\n",
    "    acc_bal = 20000\n",
    "    while True:\n",
    "        \n",
    "        print('\\n\\nPlease find the transaction type below :\\n\\n')\n",
    "        print('Enter 1: Cash Withdraw\\n')\n",
    "        print('Enter 2: Cash Credit\\n')\n",
    "        print('Enter 3: Change Password\\n')\n",
    "        print('Enter 4: Exit menu\\n')\n",
    "        val = input('Enter your choice from above menu \\n')\n",
    "        if val=='1':\n",
    "            p= getpass.getpass(prompt='Enter your transaction password \\n')\n",
    "            if p==password:\n",
    "                withdraw = int(input('Enter the amount \\n'))\n",
    "                if withdraw < acc_bal:\n",
    "                    print('Please wait ...\\n')\n",
    "                    time.sleep(5)\n",
    "                    acc_bal=acc_bal-withdraw\n",
    "                    print('Please collect your money \\n\\nyour available balance is %d \\n'%acc_bal)\n",
    "                    flag=-1\n",
    "                else:\n",
    "                    print('You have insufficient balance in your account \\n')\n",
    "                    print('Your current account balance is %d'%acc_bal)\n",
    "                    flag=-1\n",
    "            else:\n",
    "                print('Incorrect password')\n",
    "            \n",
    "        elif val=='2':\n",
    "            p= getpass.getpass(prompt='Enter your transaction password \\n')\n",
    "            if p==password :\n",
    "                credit = int(input('Enter the amount \\n'))\n",
    "                print('Please wait ...\\n')\n",
    "                acc_bal=acc_bal+credit\n",
    "                time.sleep(5)\n",
    "                print('Your available balance is %d\\n'%acc_bal)\n",
    "                               \n",
    "            else:\n",
    "                print('Incorrect password\\n')\n",
    "            \n",
    "        elif val=='3':\n",
    "            cp = getpass.getpass(prompt='Enter current password \\n')\n",
    "            np = getpass.getpass(prompt='Enter New password \\n')\n",
    "            rp = getpass.getpass(prompt='Re-Enter New password \\n')\n",
    "            print('Please wait ...\\n')\n",
    "            time.sleep(5)\n",
    "            if cp==password:\n",
    "                if np==rp:\n",
    "                    password=np\n",
    "                    print('Password changed successfully.\\n')\n",
    "                else:\n",
    "                    print('Miss match new password\\n')\n",
    "            else:\n",
    "                print('your current password is wrong\\n')\n",
    "        elif val=='4':\n",
    "            print('Thank you for banking with us , Have a great Day ')\n",
    "            break\n",
    "        else:\n",
    "            print('You have entered wrong input \\n')\n",
    "            \n",
    "            \n",
    "                \n",
    "bankingOperation() \n"
   ]
  },
  {
   "cell_type": "markdown",
   "metadata": {},
   "source": [
    "<font color='red'>6. Write a program which will find all such numbers which are divisible by 7 but are\n",
    "not a multiple of 5, between 2000 and 3200 (both included). The numbers obtained\n",
    "should be printed in a comma-separated sequence on a single line.\n",
    "</font>"
   ]
  },
  {
   "cell_type": "code",
   "execution_count": 7,
   "metadata": {},
   "outputs": [
    {
     "name": "stdout",
     "output_type": "stream",
     "text": [
      "2002, 2009, 2016, 2023, 2037, 2044, 2051, 2058, 2072, 2079, 2086, 2093, 2107, 2114, 2121, 2128, 2142, 2149, 2156, 2163, 2177, 2184, 2191, 2198, 2212, 2219, 2226, 2233, 2247, 2254, 2261, 2268, 2282, 2289, 2296, 2303, 2317, 2324, 2331, 2338, 2352, 2359, 2366, 2373, 2387, 2394, 2401, 2408, 2422, 2429, 2436, 2443, 2457, 2464, 2471, 2478, 2492, 2499, 2506, 2513, 2527, 2534, 2541, 2548, 2562, 2569, 2576, 2583, 2597, 2604, 2611, 2618, 2632, 2639, 2646, 2653, 2667, 2674, 2681, 2688, 2702, 2709, 2716, 2723, 2737, 2744, 2751, 2758, 2772, 2779, 2786, 2793, 2807, 2814, 2821, 2828, 2842, 2849, 2856, 2863, 2877, 2884, 2891, 2898, 2912, 2919, 2926, 2933, 2947, 2954, 2961, 2968, 2982, 2989, 2996, 3003, 3017, 3024, 3031, 3038, 3052, 3059, 3066, 3073, 3087, 3094, 3101, 3108, 3122, 3129, 3136, 3143, 3157, 3164, 3171, 3178, 3192, 3199\n"
     ]
    }
   ],
   "source": [
    "def cal():\n",
    "    l=str([i for i in range(2000,3200) if i%7==0 and i%5!=0])\n",
    "    print(l[1:len(l)-1])\n",
    "cal()"
   ]
  },
  {
   "cell_type": "markdown",
   "metadata": {},
   "source": [
    "<font color='red'>7. Write a program which can compute the factorial of a given numbers. Use recursion\n",
    "to find it. \n",
    "</font>"
   ]
  },
  {
   "cell_type": "code",
   "execution_count": 6,
   "metadata": {},
   "outputs": [
    {
     "name": "stdout",
     "output_type": "stream",
     "text": [
      "Enter any number : 8\n",
      "\n",
      "Output :\n",
      "\n",
      "The factorial of 8 is 40320\n"
     ]
    }
   ],
   "source": [
    "def factorialUsingRecursion(num):\n",
    "    if num ==1:\n",
    "        return num\n",
    "    else:\n",
    "        return num*factorialUsingRecursion(num-1)\n",
    "try:\n",
    "    num=int(input('Enter any number : '))\n",
    "    print('\\nOutput :\\n')\n",
    "    if num < 0:  \n",
    "        print(\"Sorry, factorial does not exist for negative numbers\")  \n",
    "    elif num == 0:  \n",
    "        print(\"The factorial of 0 is 1\")  \n",
    "    else:  \n",
    "        print(\"The factorial of\",num,\"is\",factorialUsingRecursion(num))  \n",
    "except:\n",
    "    print('Sorry, factorial does not exist for character or String. Please enter any number \\n')"
   ]
  },
  {
   "cell_type": "markdown",
   "metadata": {},
   "source": [
    "<font color='red'>8. Write a program that calculates and prints the value according to the given formula:\n",
    "Q = Square root of [(2 * C * D)/H]\n",
    "Following are the fixed values of C and H: C is 50. H is 30.\n",
    "D is the variable whose values should be input to your program in a commaseparated sequence. \n",
    "</font>"
   ]
  },
  {
   "cell_type": "code",
   "execution_count": 33,
   "metadata": {},
   "outputs": [
    {
     "name": "stdout",
     "output_type": "stream",
     "text": [
      "Enter few number in a commaseparated sequence format :100,150,180\n",
      "\n",
      "Output :\n",
      "\n",
      "18, 22, 24\n"
     ]
    }
   ],
   "source": [
    "import re\n",
    "import math\n",
    "def cal(val):\n",
    "    try:\n",
    "        print('\\nOutput :\\n')\n",
    "        lis = val.split(',')\n",
    "        H=30\n",
    "        C=50\n",
    "        \n",
    "        Q = str([int(math.sqrt((2*C*int(i))/H)) if str(i).isdigit() else 'Wrong Input' for i in lis])\n",
    "        print(Q[1:len(Q)-1])\n",
    "        \n",
    "    except:\n",
    "        print('Please provide number only \\n')\n",
    "cal(input('Enter few number in a commaseparated sequence format :'))"
   ]
  },
  {
   "cell_type": "markdown",
   "metadata": {},
   "source": [
    "<font color='red'>9. Write a program which takes 2 digits, X,Y as input and generates a 2-dimensional\n",
    "array. The element value in the i-th row and j-th column of the array should be i*j.\n",
    "Note: i=0,1.., X-1; j=0,1,¡-Y-1.<br><br>\n",
    "Example:<br>\n",
    "Suppose the following inputs are given to the program:<br>\n",
    "3,5<br>\n",
    "Then, the output of the program should be:<br>\n",
    "[[0, 0, 0, 0, 0], [0, 1, 2, 3, 4], [0, 2, 4, 6, 8]]   <br>  \n",
    "</font>"
   ]
  },
  {
   "cell_type": "code",
   "execution_count": 47,
   "metadata": {},
   "outputs": [
    {
     "name": "stdout",
     "output_type": "stream",
     "text": [
      "Enter two digits in comma separated format: 3,5\n",
      "\n",
      "Ouput :\n",
      "\n",
      "\n",
      "[[0, 0, 0, 0, 0], [0, 1, 2, 3, 4], [0, 2, 4, 6, 8]]\n"
     ]
    }
   ],
   "source": [
    "def dimensional(num):\n",
    "    lis = num.split(',')\n",
    "    count=0\n",
    "    for i in lis:\n",
    "        if str(i).isdigit():\n",
    "            count=count+1\n",
    "    print('\\nOuput :\\n\\n')\n",
    "    if count==2:\n",
    "        print([[i*j for j in range(int(lis[1]))] for i in range(int(lis[0])) ])\n",
    "                \n",
    "    elif count>2:\n",
    "        print('Input should be two number not more than that')\n",
    "    else:\n",
    "        print('Input should be number')\n",
    "            \n",
    "dimensional(input('Enter two digits in comma separated format: '))"
   ]
  },
  {
   "cell_type": "markdown",
   "metadata": {},
   "source": [
    "<font color='red'>10.Write a program that accepts a comma separated sequence of words as input and\n",
    "prints the words in a comma-separated sequence after sorting them alphabetically. <br><br>\n",
    "\n",
    "Suppose the following input is supplied to the program:<br>\n",
    " without,hello,bag,world<br>\n",
    " Then, the output should be:<br>\n",
    " bag,hello,without,world<br>\n",
    "</font>"
   ]
  },
  {
   "cell_type": "code",
   "execution_count": 73,
   "metadata": {},
   "outputs": [
    {
     "name": "stdout",
     "output_type": "stream",
     "text": [
      "Enter few words in comma separated format: without,hello,bag,world\n",
      "\n",
      "Output: \n",
      "\n",
      "\n",
      "bag,hello,without,world\n",
      "\n"
     ]
    }
   ],
   "source": [
    "def charter_sorting(st):\n",
    "    lis1 = st.split(',')\n",
    "    count=0\n",
    "    for i in lis1:\n",
    "        if str(i).isdigit():\n",
    "            count=-1\n",
    "            break\n",
    "    print('\\nOutput: \\n\\n')\n",
    "    if count==0:\n",
    "        ch_srt=''\n",
    "        lis1.sort()\n",
    "        for i in lis1:\n",
    "            ch_srt=ch_srt+i+','\n",
    "        print(ch_srt.rstrip(','))\n",
    "    else:\n",
    "        print(\"Don't Enter any digits \\n\")\n",
    "    print()\n",
    "charter_sorting(input('Enter few words in comma separated format: '))"
   ]
  },
  {
   "cell_type": "markdown",
   "metadata": {},
   "source": [
    "<font color='red'>11.Write a program that accepts sequence of lines as input and prints the lines after\n",
    "making all characters in the sentence capitalized.  <br><br>\n",
    "    \n",
    "Suppose the following input is supplied to the program:<br>\n",
    " Hello world<br>\n",
    " Practice makes perfect<br>\n",
    " Then, the output should be:<br>\n",
    " HELLO WORLD<br>\n",
    " PRACTICE MAKES PERFECT<br>\n",
    "\n",
    "\n",
    "</font>"
   ]
  },
  {
   "cell_type": "code",
   "execution_count": 65,
   "metadata": {},
   "outputs": [
    {
     "name": "stdout",
     "output_type": "stream",
     "text": [
      "Enter few lines , Once you are done then press only enter :\n",
      "\n",
      "\n",
      "Hello world\n",
      "Practice makes perfect\n",
      "\n",
      "\n",
      "Output :\n",
      "\n",
      "\n",
      "HELLO WORLD\n",
      "PRACTICE MAKES PERFECT\n"
     ]
    }
   ],
   "source": [
    "def capital(text):\n",
    "    print('\\nOutput :\\n\\n')\n",
    "    lis = text.split('\\n')\n",
    "    #print(lis)\n",
    "    for i in lis:\n",
    "        print(str(i).upper())\n",
    "\n",
    "lines = []\n",
    "print('Enter few lines , Once you are done then press only enter :\\n\\n')\n",
    "while True:\n",
    "    line = input()\n",
    "    if line:\n",
    "        lines.append(line)\n",
    "    else:\n",
    "        break\n",
    "text = '\\n'.join(lines)\n",
    "capital(text)"
   ]
  },
  {
   "cell_type": "markdown",
   "metadata": {},
   "source": [
    "<font color='red'>12.Write a program that accepts a sequence of whitespace separated words as input\n",
    "and prints the words after removing all duplicate words and sorting them\n",
    "alphanumerically.   <br><br>\n",
    "Suppose the following input is supplied to the program:<br>\n",
    " hello world and practice makes perfect and hello world again<br>\n",
    " Then, the output should be:<br>\n",
    " again and hello makes perfect practice world<br>\n",
    "\n",
    "<font>"
   ]
  },
  {
   "cell_type": "code",
   "execution_count": 71,
   "metadata": {},
   "outputs": [
    {
     "name": "stdout",
     "output_type": "stream",
     "text": [
      "Enter a sentence :\n",
      "hello world and practice makes perfect and hello world again\n",
      "\n",
      "Output :\n",
      "\n",
      "\n",
      "again and hello makes perfect practice world "
     ]
    }
   ],
   "source": [
    "def duplicate(st):\n",
    "    print('\\nOutput :\\n\\n')\n",
    "    set1=set(st.split(' '))\n",
    "    set2=sorted(set1)\n",
    "    for i in set2:\n",
    "        print(i,end=' ')\n",
    "    \n",
    "duplicate(input('Enter a sentence :\\n'))"
   ]
  },
  {
   "cell_type": "markdown",
   "metadata": {},
   "source": [
    "<font color='red'>13.Write a program which accepts a sequence of comma separated 4 digit binary\n",
    "numbers as its input and then check whether they are divisible by 5 or not. The\n",
    "numbers that are divisible by 5 are to be printed in a comma separated sequence.<br><br>\n",
    "Example:<br>\n",
    "0100,0011,1010,1001<br>\n",
    "Then the output should be:<br>\n",
    "1010<br>\n",
    "\n",
    "\n",
    "</font>"
   ]
  },
  {
   "cell_type": "code",
   "execution_count": 110,
   "metadata": {},
   "outputs": [
    {
     "name": "stdout",
     "output_type": "stream",
     "text": [
      "Enter Binary number : \n",
      "\n",
      "0100,0011,1010,1001\n",
      "\n",
      "Output:\n",
      "\n",
      "1010\n"
     ]
    }
   ],
   "source": [
    "import re\n",
    "def binaryToDecimal(binary):\n",
    "    decimal, i = 0, 0\n",
    "    while(binary != 0):\n",
    "        dec = binary%10\n",
    "        decimal = decimal + dec * pow(2,i)\n",
    "        binary = binary//10\n",
    "        i += 1\n",
    "    #print(decimal)\n",
    "    return decimal\n",
    "\n",
    "lis1 = input('Enter Binary number : \\n\\n').split(',')\n",
    "ch_srt=''\n",
    "print('\\nOutput:\\n')\n",
    "for i in lis1:\n",
    "    if str(i).isdigit():\n",
    "        if binaryToDecimal(int(i))%5==0:\n",
    "            ch_srt=ch_srt+i+','\n",
    "print(ch_srt.rstrip(','))\n",
    "\n"
   ]
  },
  {
   "cell_type": "markdown",
   "metadata": {},
   "source": [
    "<font color='red'>14.Write a program that accepts a sentence and calculate the number of upper case\n",
    "letters and lower case letters.<br><br>\n",
    "\n",
    "Suppose the following input is supplied to the program:<br>\n",
    " Hello world!<br>\n",
    " Then, the output should be:<br>\n",
    " UPPER CASE 1<br>\n",
    " LOWER CASE 9<br>\n",
    "</font>\n"
   ]
  },
  {
   "cell_type": "code",
   "execution_count": 116,
   "metadata": {},
   "outputs": [
    {
     "name": "stdout",
     "output_type": "stream",
     "text": [
      "Enter any string :\n",
      "Hello world!\n",
      "\n",
      "Output :\n",
      "\n",
      "UPPER CASE :1\n",
      "LOWER CASE :9\n"
     ]
    }
   ],
   "source": [
    "import re\n",
    "def find_lower_upper(st):\n",
    "    lower_count,upper_count=0,0\n",
    "    for i in list(st):\n",
    "        if re.search(\"[a-z]\",i):\n",
    "            lower_count=lower_count+1\n",
    "        elif re.search(\"[A-Z]\",i):\n",
    "            upper_count=upper_count+1\n",
    "    print('\\nOutput :\\n')\n",
    "    print('UPPER CASE :%d'%upper_count)\n",
    "    print('LOWER CASE :%d'%lower_count)\n",
    "            \n",
    "find_lower_upper(input('Enter any string :\\n'))"
   ]
  },
  {
   "cell_type": "markdown",
   "metadata": {},
   "source": [
    "<font color='red'>15. Give example of fsum and sum function of math library.</font>"
   ]
  },
  {
   "cell_type": "code",
   "execution_count": 125,
   "metadata": {},
   "outputs": [
    {
     "name": "stdout",
     "output_type": "stream",
     "text": [
      "Sum value is : 15\n",
      "fsum value is : 15\n"
     ]
    }
   ],
   "source": [
    "import math\n",
    "\n",
    "lis=[1,2,3,4,5]\n",
    "\n",
    "#Please find sum() function only\n",
    "print('Sum value is : %d'%sum(lis))\n",
    "#Please find math.fsum()\n",
    "print('fsum value is : %d'%math.fsum(lis))\n"
   ]
  },
  {
   "cell_type": "code",
   "execution_count": null,
   "metadata": {},
   "outputs": [],
   "source": []
  },
  {
   "cell_type": "code",
   "execution_count": null,
   "metadata": {},
   "outputs": [],
   "source": []
  }
 ],
 "metadata": {
  "kernelspec": {
   "display_name": "Python 3",
   "language": "python",
   "name": "python3"
  },
  "language_info": {
   "codemirror_mode": {
    "name": "ipython",
    "version": 3
   },
   "file_extension": ".py",
   "mimetype": "text/x-python",
   "name": "python",
   "nbconvert_exporter": "python",
   "pygments_lexer": "ipython3",
   "version": "3.7.1"
  }
 },
 "nbformat": 4,
 "nbformat_minor": 2
}
